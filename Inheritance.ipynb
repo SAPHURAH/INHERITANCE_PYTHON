{
 "cells": [
  {
   "cell_type": "code",
   "execution_count": null,
   "id": "25fd2352-136f-4365-a6dd-f6bc5107427b",
   "metadata": {},
   "outputs": [],
   "source": [
    "class Animal:\n",
    "    def_init_(self,name):\n",
    "    self.name = name \n",
    "    def speak(self):\n",
    "        return f\"{self.name} makes a sound.\"\n",
    "\n",
    "class Dog(Animal):\n",
    "    def speak(self):\n",
    "        return f\"{self.name} barks.\"\n",
    "\n",
    "my_dog = Dog(\"Buddy\")\n",
    "print(my_dog.speak())\n",
    "\n"
   ]
  },
  {
   "cell_type": "code",
   "execution_count": 5,
   "id": "488c98a0-931d-4585-aa46-122601b671c7",
   "metadata": {},
   "outputs": [],
   "source": [
    "# Parent class\n",
    "class Animal:\n",
    "    def __init__(self, name):\n",
    "        self.name = name\n",
    "\n",
    "    def speak(self):\n",
    "        return f\"{self.name} makes a sound.\"\n",
    "# Child class inheriting from Animal\n",
    "def Dog(Animal):\n",
    "    def speak(self):\n",
    "        return f\"{self.name} barks.\"\n",
    "\n",
    "# Create an object of the Dog class\n",
    "my_dog = Dog(\"Buddy\")\n",
    "print(my_dog.speak())\n",
    "        \n",
    "\n"
   ]
  },
  {
   "cell_type": "code",
   "execution_count": null,
   "id": "6234006f-1882-488a-87e4-23ff32734ccf",
   "metadata": {},
   "outputs": [],
   "source": [
    "class Animals:\n",
    "    def_init_(self."
   ]
  },
  {
   "cell_type": "code",
   "execution_count": null,
   "id": "747cef47-bb60-42fc-92d7-8803d5562f20",
   "metadata": {},
   "outputs": [],
   "source": []
  },
  {
   "cell_type": "code",
   "execution_count": null,
   "id": "11e3f497-c43c-43ac-a840-0c0b5a181c6c",
   "metadata": {},
   "outputs": [],
   "source": [
    "# Parent class\n",
    "class Animals:\n",
    "    def_init_(self,name):\n",
    "    self.name = name \n",
    "\n",
    "def speak(self):\n",
    "    return f\"{self.name} makes a sound.\"\n",
    "\n",
    "\n",
    "# Child class inheriting from Animal\n",
    "def Dog(Animals):\n",
    "    def speak(self):\n",
    "        return f\"{self..name} makes a barks. \"\n",
    "\n",
    "\n",
    "# Child class inheriting from Animal\n",
    "def Cat(Animal):\n",
    "    def speak(self):\n",
    "        return f\"{self.name} meow. \"\n",
    "\n",
    "\n",
    "\n",
    "# Creating objects of Dog and Cat\n",
    "my_dog = Dog(\"Buddy\")\n",
    "my_cat = Cat(\"Whiskers\")\n",
    "\n",
    "print(my_dog.speak())\n",
    "print(my_cat.speak())\n",
    "\n",
    "        \n",
    "\n",
    "\n",
    "\n"
   ]
  },
  {
   "cell_type": "code",
   "execution_count": null,
   "id": "f8e9be1d-e766-437e-84d5-b4dca868cb98",
   "metadata": {},
   "outputs": [],
   "source": [
    "def Animal:\n",
    "def_init_(self.name)\n",
    "self.name = name:\n",
    "def speak(self):\n",
    "    \n",
    "def Bird(Animal):\n",
    "    def speak(self):\n",
    "        "
   ]
  },
  {
   "cell_type": "code",
   "execution_count": null,
   "id": "9a18d6f9-e38a-4c10-81d6-c4cb43b10535",
   "metadata": {},
   "outputs": [],
   "source": []
  },
  {
   "cell_type": "code",
   "execution_count": null,
   "id": "57a7f5ae-f651-429b-b00c-f80853168485",
   "metadata": {},
   "outputs": [],
   "source": []
  },
  {
   "cell_type": "code",
   "execution_count": null,
   "id": "b857acc6-ae68-4d80-95df-65ccffa1794c",
   "metadata": {},
   "outputs": [],
   "source": []
  },
  {
   "cell_type": "code",
   "execution_count": null,
   "id": "e6f732fc-a89b-467b-97b0-ee7a04996241",
   "metadata": {},
   "outputs": [],
   "source": []
  },
  {
   "cell_type": "code",
   "execution_count": null,
   "id": "ce784128-2ab0-434b-8d61-b8db69f9c6c3",
   "metadata": {},
   "outputs": [],
   "source": []
  },
  {
   "cell_type": "code",
   "execution_count": null,
   "id": "f79112bb-a4ff-4c69-af96-8b06307d15ed",
   "metadata": {},
   "outputs": [],
   "source": []
  },
  {
   "cell_type": "code",
   "execution_count": null,
   "id": "cce5a13a-144e-4990-87c5-18c845b842e5",
   "metadata": {},
   "outputs": [],
   "source": []
  },
  {
   "cell_type": "code",
   "execution_count": null,
   "id": "733e44de-3f22-4503-b658-7836663483fd",
   "metadata": {},
   "outputs": [],
   "source": []
  },
  {
   "cell_type": "code",
   "execution_count": null,
   "id": "38b9b432-4c79-468d-8faf-14e6cad70f2e",
   "metadata": {},
   "outputs": [],
   "source": []
  },
  {
   "cell_type": "code",
   "execution_count": null,
   "id": "5db909ea-f48e-458c-b642-9c74a995b01d",
   "metadata": {},
   "outputs": [],
   "source": []
  },
  {
   "cell_type": "code",
   "execution_count": null,
   "id": "15c61429-eebd-4804-a589-b1e4453d087c",
   "metadata": {},
   "outputs": [],
   "source": []
  },
  {
   "cell_type": "code",
   "execution_count": null,
   "id": "1195d613-e1d2-46fc-ac8a-4ac08acb968b",
   "metadata": {},
   "outputs": [],
   "source": []
  },
  {
   "cell_type": "code",
   "execution_count": null,
   "id": "18c2311f-1756-4361-8484-d79be3ea31d4",
   "metadata": {},
   "outputs": [],
   "source": []
  },
  {
   "cell_type": "code",
   "execution_count": null,
   "id": "e8d4646c-b00e-4bba-96bf-6428754d4eab",
   "metadata": {},
   "outputs": [],
   "source": []
  },
  {
   "cell_type": "code",
   "execution_count": null,
   "id": "8ec27d1a-8cde-411e-9195-01b42cbc112a",
   "metadata": {},
   "outputs": [],
   "source": []
  },
  {
   "cell_type": "code",
   "execution_count": null,
   "id": "2c0fc778-fc95-451b-b7c0-d88facad2d77",
   "metadata": {},
   "outputs": [],
   "source": []
  }
 ],
 "metadata": {
  "kernelspec": {
   "display_name": "Python 3 (ipykernel)",
   "language": "python",
   "name": "python3"
  },
  "language_info": {
   "codemirror_mode": {
    "name": "ipython",
    "version": 3
   },
   "file_extension": ".py",
   "mimetype": "text/x-python",
   "name": "python",
   "nbconvert_exporter": "python",
   "pygments_lexer": "ipython3",
   "version": "3.12.4"
  }
 },
 "nbformat": 4,
 "nbformat_minor": 5
}
